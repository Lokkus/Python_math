{
 "cells": [
  {
   "cell_type": "code",
   "execution_count": null,
   "metadata": {},
   "outputs": [],
   "source": [
    "from IPython.core.interactiveshell import InteractiveShell\n",
    "InteractiveShell.ast_node_interactivity = \"all\"\n",
    "%config InteractiveShell.ast_node_interactivity = 'all'\n",
    "\n",
    "import pandas as pd"
   ]
  },
  {
   "cell_type": "code",
   "execution_count": null,
   "metadata": {},
   "outputs": [],
   "source": [
    "s = pd.Series([10, 20, 30, 40])\n",
    "s\n",
    "s.index = ['A', 'B', 'C', 'D']\n",
    "s.name = 'numbers'\n",
    "s\n",
    "s[['A', 'C']]\n",
    "s.mean()"
   ]
  },
  {
   "cell_type": "code",
   "execution_count": null,
   "metadata": {},
   "outputs": [],
   "source": [
    "data = {'Name': ['Anna', 'Piotr', 'Lukasz', 'Grzegorz'], 'Age': [25, 30, 40, 43]}\n",
    "df = pd.DataFrame(data);\n",
    "df"
   ]
  },
  {
   "cell_type": "code",
   "execution_count": null,
   "metadata": {},
   "outputs": [],
   "source": [
    "# operacje na dataframes\n",
    "\n",
    "df.info()\n",
    "df.describe()\n",
    "df.head(5)\n",
    "df.tail(3)\n"
   ]
  },
  {
   "cell_type": "code",
   "execution_count": null,
   "metadata": {},
   "outputs": [],
   "source": [
    "#filtrowanie danych\n",
    "df[df.Age > 30]\n",
    "df\n",
    "df[df.Age > 30]['Name']\n",
    "df\n",
    "\n",
    "#sortowanie\n",
    "df.sort_values(by='Age', ascending=False)\n",
    "df\n",
    "\n",
    "#dodawanie kolumny\n",
    "df['Salary'] = [3000, 4000, 5000, 6000]\n",
    "df\n",
    "\n",
    "#usuwanie kolumny\n",
    "df.drop(columns='Salary', inplace=True)\n"
   ]
  },
  {
   "cell_type": "code",
   "execution_count": null,
   "metadata": {},
   "outputs": [],
   "source": [
    "#praca z brakującymi danymi\n",
    "df.isnull().sum()\n",
    "\n",
    "#grupowanie danych\n",
    "df.groupby('Age').mean(numeric_only=True)\n",
    "\n",
    "\n"
   ]
  },
  {
   "cell_type": "code",
   "execution_count": null,
   "metadata": {},
   "outputs": [],
   "source": [
    "#Łączenie dataframes\n",
    "df1 = pd.DataFrame({'ID': [1, 2], 'Name': ['Anna', 'Piotr']})\n",
    "df2 = pd.DataFrame({'ID': [1, 2], 'Salary': [4000, 5000]})\n",
    "\n",
    "merged = pd.merge(df1, df2, on='ID')\n",
    "merged\n",
    "\n",
    "#łączenie wierszy\n",
    "df_combined = pd.concat([df1, df2], axis=0)\n",
    "df_combined"
   ]
  },
  {
   "cell_type": "code",
   "execution_count": null,
   "metadata": {},
   "outputs": [],
   "source": []
  }
 ],
 "metadata": {
  "kernelspec": {
   "display_name": "Moje VENV",
   "language": "python",
   "name": "moj_venv"
  },
  "language_info": {
   "codemirror_mode": {
    "name": "ipython",
    "version": 3
   },
   "file_extension": ".py",
   "mimetype": "text/x-python",
   "name": "python",
   "nbconvert_exporter": "python",
   "pygments_lexer": "ipython3",
   "version": "3.12.8"
  }
 },
 "nbformat": 4,
 "nbformat_minor": 2
}
