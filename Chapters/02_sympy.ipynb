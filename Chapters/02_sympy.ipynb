{
 "cells": [
  {
   "cell_type": "code",
   "execution_count": 2,
   "metadata": {},
   "outputs": [],
   "source": [
    "from IPython.core.interactiveshell import InteractiveShell\n",
    "InteractiveShell.ast_node_interactivity = \"all\"\n",
    "%config InteractiveShell.ast_node_interactivity = 'all'\n",
    "\n",
    "import sympy as sp"
   ]
  },
  {
   "cell_type": "code",
   "execution_count": null,
   "metadata": {},
   "outputs": [],
   "source": [
    "# Definiowanie symboli\n",
    "x, y, z = sp.symbols('x y z')\n",
    "\n",
    "# Wyświetlanie symboli\n",
    "x, y, z\n",
    "\n",
    "\n",
    "# Sprawdzanie czy zmienne są rzeczywiste\n",
    "is_x_real = sp.ask(sp.Q.real(x))\n",
    "is_y_real = sp.ask(sp.Q.real(y))\n",
    "is_z_real = sp.ask(sp.Q.real(z))\n",
    "\n",
    "# Wyświetlanie wyników\n",
    "is_x_real, is_y_real, is_z_real\n",
    "\n",
    "# Sprawdzanie czy zmienne są prawdziwe\n",
    "is_x_true = sp.ask(sp.Q.is_true(x))\n",
    "is_y_true = sp.ask(sp.Q.is_true(y))\n",
    "is_z_true = sp.ask(sp.Q.is_true(z))\n",
    "\n",
    "# Wyświetlanie wyników\n",
    "is_x_true, is_y_true, is_z_true"
   ]
  },
  {
   "cell_type": "code",
   "execution_count": null,
   "metadata": {},
   "outputs": [],
   "source": [
    "# Definiowanie zmiennej x\n",
    "x = sp.Symbol('x')\n",
    "\n",
    "# Wyświetlanie pierwiastka kwadratowego z x\n",
    "sqrt_x = sp.sqrt(x)\n",
    "sqrt_x\n",
    "# Wyświetlanie x^2 pod pierwiastkiem\n",
    "sqrt_x_squared = sp.sqrt(x**2)\n",
    "sqrt_x_squared"
   ]
  },
  {
   "cell_type": "code",
   "execution_count": null,
   "metadata": {},
   "outputs": [],
   "source": [
    "#liczby\n",
    "i = sp.Integer(19)\n",
    "type(i)\n",
    "sp.core.numbers.Integer\n",
    "i.is_odd\n",
    "i.is_even\n",
    "i.is_prime\n",
    "i.is_integer\n",
    "i.is_real\n",
    "i.is_positive\n",
    "i.is_negative\n",
    "i.is_zero\n",
    "i.is_nonzero\n",
    "\n",
    "f = sp.Float(2.3)\n",
    "sp.core.numbers.Float\n",
    "f.is_odd\n",
    "f.is_even  \n",
    "f.is_integer\n",
    "f.is_real\n",
    "f.is_positive\n",
    "f.is_Float\n",
    "f.is_negative\n",
    "\n",
    "\n",
    "\n"
   ]
  },
  {
   "cell_type": "code",
   "execution_count": null,
   "metadata": {},
   "outputs": [],
   "source": [
    "# liczby wymierne\n",
    "r1 = sp.Rational(2, 3)\n",
    "r2 = sp.Rational(4, 5)\n",
    "\n",
    "r1 + r2\n",
    "r1 * r2\n",
    "r1 / r2\n",
    "r1 - r2\n"
   ]
  },
  {
   "cell_type": "code",
   "execution_count": null,
   "metadata": {},
   "outputs": [],
   "source": [
    "#Stałe i symbole specjalne\n",
    "sp.pi\n",
    "sp.E\n",
    "sp.I\n",
    "sp.oo\n"
   ]
  },
  {
   "cell_type": "code",
   "execution_count": null,
   "metadata": {},
   "outputs": [],
   "source": [
    "#funkcje\n",
    "x, y, z = sp.symbols('x y z')\n",
    "f = sp.Function('f')\n",
    "type(f)\n",
    "f(x)\n",
    "\n",
    "g = sp.Function('g')(x, y, z)\n",
    "g\n",
    "g.free_symbols\n",
    "\n",
    "# funkcje lambda\n",
    "h = sp.Lambda(x, x**2)\n",
    "h\n",
    "h(5)\n",
    "h(1 + x)\n"
   ]
  },
  {
   "cell_type": "code",
   "execution_count": null,
   "metadata": {},
   "outputs": [],
   "source": [
    "#wyrazenia\n",
    "\n",
    "x = sp.Symbol('x')\n",
    "expr = x**2 + 3*x - 1\n",
    "expr\n",
    "expr.args\n",
    "expr.args[1]\n",
    "expr.args[1].args[1]\n",
    "\n",
    "#upraszczanie wyrażeń\n",
    "expr = 2 * (x**2 - x) - x * (x + 1)\n",
    "expr\n",
    "sp.simplify(expr)\n",
    "expr\n",
    "\n",
    "expr = 2 * sp.cos(x) * sp.sin(x)\n",
    "expr\n",
    "\n",
    "expr = sp.sin(x) / sp.cos(x)\n",
    "expr\n",
    "expr.simplify()\n",
    "expr = sp.sin(x) * sp.sin(x) + sp.cos(x) * sp.cos(x)\n",
    "expr.simplify()\n",
    "\n",
    "# Rozwijanie wyrażeń\n",
    "\n",
    "expr = (x + 1) * (x + 2)\n",
    "expr.expand()\n",
    "\n",
    "sp.sin(x + y).expand(trig=True)\n",
    "a, b = sp.symbols(\"a, b\", positive=True)\n",
    "sp.log(a * b).expand(log=True)\n",
    "\n",
    "\n",
    "# Funkcje factor, collect i combine\n",
    "sp.factor(x**2 - 1)\n",
    "\n",
    "sp.factor(x * sp.cos(y) + sp.sin(x) * x)\n",
    "\n",
    "sp.logcombine(sp.log(a) - sp.log(b))\n",
    "\n",
    "\n",
    "#collect\n",
    "expr = x + y + x * y * z\n",
    "expr.collect(x)\n",
    "\n",
    "expr.collect(y)\n",
    "\n",
    "\n"
   ]
  },
  {
   "cell_type": "code",
   "execution_count": null,
   "metadata": {},
   "outputs": [],
   "source": [
    "#podstawienia\n",
    "\n",
    "(x+y).subs(x, y)\n",
    "sp.sin(x * sp.exp(x)).subs(x, y)\n",
    "\n",
    "sp.sin(x * z).subs({z: sp.exp(y), x: y, sp.sin: sp.cos})\n",
    "\n",
    "expr = x * y + z**2 *x\n",
    "values = {x: 1.25, y: 0.4, z: 3.2}\n",
    "expr.subs(values)\n"
   ]
  },
  {
   "cell_type": "code",
   "execution_count": null,
   "metadata": {},
   "outputs": [],
   "source": []
  }
 ],
 "metadata": {
  "kernelspec": {
   "display_name": "Python (venv_python_312)",
   "language": "python",
   "name": "venv_python_312"
  },
  "language_info": {
   "codemirror_mode": {
    "name": "ipython",
    "version": 3
   },
   "file_extension": ".py",
   "mimetype": "text/x-python",
   "name": "python",
   "nbconvert_exporter": "python",
   "pygments_lexer": "ipython3",
   "version": "3.12.3"
  }
 },
 "nbformat": 4,
 "nbformat_minor": 2
}
