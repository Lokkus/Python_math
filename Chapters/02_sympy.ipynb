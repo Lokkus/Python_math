{
 "cells": [
  {
   "cell_type": "code",
   "execution_count": 1,
   "metadata": {},
   "outputs": [],
   "source": [
    "from IPython.core.interactiveshell import InteractiveShell\n",
    "InteractiveShell.ast_node_interactivity = \"all\"\n",
    "%config InteractiveShell.ast_node_interactivity = 'all'\n",
    "\n",
    "import sympy\n",
    "sympy.init_printing()\n",
    "from sympy import I, pi, oo\n"
   ]
  },
  {
   "cell_type": "code",
   "execution_count": null,
   "metadata": {},
   "outputs": [],
   "source": [
    "from sympy import Symbol\n",
    "\n",
    "# Tworzenie symbolu\n",
    "x = Symbol('x')\n",
    "\n",
    "# Wyświetlanie podstawowych informacji o symbolu\n",
    "print(f\"Symbol: {x}\")\n",
    "print(f\"Typ: {type(x)}\")\n",
    "print(f\"Jest symbolem: {x.is_Symbol}\")\n",
    "print(f\"Jest stałą: {x.is_constant()}\")\n",
    "sympy.sqrt(x**2)\n",
    "x\n",
    "\n"
   ]
  },
  {
   "cell_type": "code",
   "execution_count": null,
   "metadata": {},
   "outputs": [],
   "source": [
    "n1 = sympy.Symbol(\"n\")\n",
    "n2 = sympy.Symbol(\"n\", integer=True)\n",
    "n3 = sympy.Symbol(\"n\", odd=True)\n",
    "sympy.cos(n1 * pi)\n",
    "sympy.cos(n2 * pi)\n",
    "sympy.cos(n3 * pi)"
   ]
  },
  {
   "cell_type": "code",
   "execution_count": 4,
   "metadata": {},
   "outputs": [],
   "source": [
    "a, b, c = sympy.symbols(\"a, b, c\", negative=True)\n",
    "d, e, f = sympy.symbols(\"d, e, f\", positive=True)"
   ]
  },
  {
   "cell_type": "code",
   "execution_count": null,
   "metadata": {},
   "outputs": [],
   "source": [
    "# Wyświetlanie liczb całkowitych w sympy\n",
    "integer_numbers = [sympy.Integer(i) for i in range(-5, 6)]\n",
    "integer_numbers"
   ]
  },
  {
   "cell_type": "code",
   "execution_count": null,
   "metadata": {},
   "outputs": [],
   "source": [
    "# Prezentacja sympy.Rational\n",
    "\n",
    "# Tworzenie liczb wymiernych\n",
    "r1 = sympy.Rational(1, 2)\n",
    "r2 = sympy.Rational(3, 4)\n",
    "r3 = sympy.Rational(5, 6)\n",
    "\n",
    "# Wyświetlanie liczb wymiernych\n",
    "r1, r2, r3\n",
    "\n",
    "# Operacje na liczbach wymiernych\n",
    "dodawanie = r1 + r2\n",
    "odejmowanie = r1 - r2\n",
    "mnożenie = r1 * r2\n",
    "dzielenie = r1 / r2\n",
    "\n",
    "dodawanie, odejmowanie, mnożenie, dzielenie\n",
    "\n",
    "# Porównywanie liczb wymiernych\n",
    "porownanie1 = r1 > r2\n",
    "porownanie2 = r1 < r2\n",
    "porownanie3 = r1 == r2\n",
    "\n",
    "porownanie1, porownanie2, porownanie3\n",
    "\n",
    "# Konwersja liczby wymiernej na liczbę zmiennoprzecinkową\n",
    "float_r1 = float(r1)\n",
    "float_r2 = float(r2)\n",
    "\n",
    "float_r1, float_r2"
   ]
  },
  {
   "cell_type": "code",
   "execution_count": null,
   "metadata": {},
   "outputs": [],
   "source": [
    "from sympy import Function, symbols\n",
    "\n",
    "# Definiowanie symboli\n",
    "x, y = symbols('x y')\n",
    "\n",
    "# Definiowanie funkcji\n",
    "f = Function('f')(x)\n",
    "g = Function('g')(x, y)\n",
    "\n",
    "# Wyświetlanie funkcji\n",
    "f, g\n",
    "\n",
    "# Różniczkowanie funkcji\n",
    "f_prime = f.diff(x)\n",
    "g_prime_x = g.diff(x)\n",
    "g_prime_y = g.diff(y)\n",
    "\n",
    "f_prime, g_prime_x, g_prime_y\n",
    "\n",
    "# Podstawianie wartości do funkcji\n",
    "f_sub = f.subs(x, 2)\n",
    "g_sub = g.subs({x: 2, y: 3})\n",
    "\n",
    "f_sub, g_sub\n",
    "\n",
    "# Tworzenie wyrażeń z funkcjami\n",
    "expr = f + g\n",
    "expr_diff = expr.diff(x)\n",
    "\n",
    "expr, expr_diff"
   ]
  },
  {
   "cell_type": "code",
   "execution_count": null,
   "metadata": {},
   "outputs": [],
   "source": [
    "# wyrażenia\n",
    "\n",
    "x = sympy.Symbol('x')\n",
    "expr = 1 + 2*x**2 + 3*x**3\n",
    "expr\n",
    "expr.args\n",
    "\n",
    "expr = 2*sympy.sin(x)*sympy.cos(x)\n",
    "expr\n",
    "\n",
    "sympy.simplify(expr)\n",
    "\n",
    "# upraszczanie wyrazeń trygonometrycznych\n",
    "# upraszczanie wyrażeń trygonometrycznych\n",
    "trig_expr = sympy.sin(x)**2 + sympy.cos(x)**2\n",
    "simplified_trig_expr = sympy.simplify(trig_expr)\n",
    "simplified_trig_expr\n",
    "\n",
    "# inne przykłady upraszczania wyrażeń trygonometrycznych\n",
    "trig_expr2 = sympy.sin(2*x) + sympy.sin(x)**2\n",
    "simplified_trig_expr2 = sympy.simplify(trig_expr2)\n",
    "simplified_trig_expr2\n",
    "\n",
    "trig_expr3 = sympy.tan(x)**2 + 1\n",
    "simplified_trig_expr3 = sympy.simplify(trig_expr3)\n",
    "simplified_trig_expr3\n",
    "\n",
    "# upraszczanie wyrażeń potęgowych\n",
    "pow_expr = x**2 * x**3\n",
    "simplified_pow_expr = sympy.simplify(pow_expr)\n",
    "simplified_pow_expr\n",
    "\n",
    "pow_expr2 = (x**2)**3\n",
    "simplified_pow_expr2 = sympy.simplify(pow_expr2)\n",
    "simplified_pow_expr2\n",
    "\n",
    "pow_expr3 = x**5 / x**2\n",
    "simplified_pow_expr3 = sympy.simplify(pow_expr3)\n",
    "simplified_pow_expr3"
   ]
  }
 ],
 "metadata": {
  "kernelspec": {
   "display_name": "Python (venv_python_312)",
   "language": "python",
   "name": "venv_python_312"
  },
  "language_info": {
   "codemirror_mode": {
    "name": "ipython",
    "version": 3
   },
   "file_extension": ".py",
   "mimetype": "text/x-python",
   "name": "python",
   "nbconvert_exporter": "python",
   "pygments_lexer": "ipython3",
   "version": "3.12.3"
  }
 },
 "nbformat": 4,
 "nbformat_minor": 2
}
