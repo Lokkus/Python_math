{
 "cells": [
  {
   "cell_type": "code",
   "execution_count": 1,
   "id": "479f02cd-27c7-466c-a979-aa9a87a36faf",
   "metadata": {},
   "outputs": [
    {
     "data": {
      "text/plain": [
       "(3, 3)"
      ]
     },
     "execution_count": 1,
     "metadata": {},
     "output_type": "execute_result"
    }
   ],
   "source": [
    "from IPython.core.interactiveshell import InteractiveShell\n",
    "InteractiveShell.ast_node_interactivity = \"all\"\n",
    "%config InteractiveShell.ast_node_interactivity = 'all'\n",
    "\n",
    "import numpy as np\n",
    "data = np.array([[1, 2, 3], [3,4,5], [7,8,9]])\n",
    "\n",
    "type(data)\n",
    "data\n",
    "data.ndim\n",
    "data.size\n",
    "data.nbytes\n",
    "data.shape"
   ]
  },
  {
   "cell_type": "code",
   "execution_count": null,
   "id": "849f73d4-3dd9-4552-911a-7627058d3633",
   "metadata": {},
   "outputs": [],
   "source": [
    "data = np.array([[1, 2, 3], [4, 5, 6], [7, 8, 9]], dtype=float)\n",
    "data\n",
    "data.dtype\n",
    "\n",
    "d1 = np.array([1,2,3], dtype=float)\n",
    "d2 = np.array([1,2,3], dtype=complex)\n",
    "d1 + d2\n",
    "(d1 + d2).dtype\n",
    "\n",
    "# w pierwiastki z liczby ujemnej\n",
    "np.sqrt(np.array([-1, -2, -4], dtype=complex))"
   ]
  },
  {
   "cell_type": "code",
   "execution_count": null,
   "id": "5da574c2-8eee-4b71-a8f7-5d72f9169b57",
   "metadata": {},
   "outputs": [],
   "source": [
    "cplx = np.array([3+3.j], dtype=complex)\n",
    "cplx.real\n",
    "cplx.imag\n",
    "print(f'Ange in deg: {np.angle(cplx, deg=True)}')\n"
   ]
  },
  {
   "cell_type": "code",
   "execution_count": null,
   "id": "09132045-0e3f-4963-87c2-d6d09f0103d9",
   "metadata": {},
   "outputs": [],
   "source": [
    "# Tablice utworzone na podstawie list\n",
    "# i innych obiektów tablicopodobnych\n",
    "\n",
    "s='1D'\n",
    "s\n",
    "data = np.array([1, 2, 3, 4])\n",
    "data\n",
    "data.ndim\n",
    "data.shape\n",
    "\n",
    "s='2D'\n",
    "s\n",
    "data = np.array([[1,2], [3,4]])\n",
    "data\n",
    "data.ndim\n",
    "data.shape\n",
    "\n",
    "s='3D'\n",
    "s\n",
    "data = np.array([[[1, 2, 3], [4, 5, 6], [7, 8, 9]], [[10, 11, 12], [13, 14, 15], [16, 17, 18]]])\n",
    "data\n",
    "data.ndim\n",
    "data.shape\n",
    "\n",
    "s='4D'\n",
    "s\n",
    "data = np.array([\n",
    "    [\n",
    "        [\n",
    "            [1, 2, 3], \n",
    "            [4, 5, 6], \n",
    "            [7, 8, 9]\n",
    "        ], \n",
    "        [\n",
    "            [10, 11, 12], \n",
    "            [13, 14, 15], \n",
    "            [16, 17, 18]\n",
    "        ],\n",
    "    ],\n",
    "    [ \n",
    "        [\n",
    "            [19, 20, 21], \n",
    "            [22, 23, 24], \n",
    "            [25, 26, 27]\n",
    "        ], \n",
    "        [\n",
    "            [28, 29, 30], \n",
    "            [31, 32, 33], \n",
    "            [34, 35, 36]\n",
    "        ]\n",
    "    ]\n",
    "])\n",
    "data\n",
    "data.ndim\n",
    "data.shape\n",
    "\n"
   ]
  },
  {
   "cell_type": "code",
   "execution_count": null,
   "id": "b3341303",
   "metadata": {},
   "outputs": [],
   "source": [
    "print('Tablice wypełnione stałymi wartościami - zeros')\n",
    "s = '1D'\n",
    "data = np.zeros(2)\n",
    "s\n",
    "data\n",
    "s = '2D'\n",
    "data = np.zeros((2, 2))\n",
    "s\n",
    "data\n",
    "s = '3D'\n",
    "data = np.zeros((2, 2, 3))\n",
    "s\n",
    "data\n",
    "s = '4D'\n",
    "data = np.zeros((2, 2, 3, 3))\n",
    "s\n",
    "data\n",
    "\n",
    "print('Tablice wypełnione stałymi wartościami - ones')\n",
    "s = '1D'\n",
    "data = np.ones(3)\n",
    "s\n",
    "data\n",
    "\n",
    "s = '5D'\n",
    "data = np.ones((2,3,4,5,6))\n",
    "s\n",
    "data\n",
    "print(f'data.ndim: {data.ndim}')\n",
    "print(f'data.shape: {data.shape}')\n",
    "print(f'data.size: {data.size}')\n",
    "\n",
    "\n"
   ]
  },
  {
   "cell_type": "code",
   "execution_count": null,
   "id": "bf2aa5c4",
   "metadata": {},
   "outputs": [],
   "source": [
    "print('Wypelniania tablic')\n",
    "s = 'mnozenie'\n",
    "data = 5.4 * np.ones(5)\n",
    "s\n",
    "data\n",
    "\n",
    "s='np.full'\n",
    "data = np.full(10, 6.6)\n",
    "s\n",
    "data\n",
    "\n",
    "s='np.fill'\n",
    "data = np.empty(5)\n",
    "data.fill(3.0)\n",
    "s\n",
    "data\n",
    "\n",
    "\n"
   ]
  },
  {
   "cell_type": "code",
   "execution_count": null,
   "id": "fa56bd0e",
   "metadata": {},
   "outputs": [],
   "source": [
    "print(\"Tablice wypełnione rosnącymi wartościami\")\n",
    "\n",
    "s = 'generowanie tablicy z przyrostem 0.5 od 0 - 10 za pomocą arrange'\n",
    "data = np.arange(0.0, 10, 0.5)\n",
    "data\n",
    "s\n",
    "\n",
    "s = 'generowanie tablicy z przyrostem 0.5 od 0 - 10 za pomocą linspace'\n",
    "data = np.linspace(0.0, 10, 21)\n",
    "data\n",
    "s\n",
    "\n",
    "s = 'Tablice z wartościami rozmieszczonymi logarytmicznie'\n",
    "data = np.logspace(0, 2, 5) # 5 punktów generowanych pomniedzy 10^0 a 10^2\n",
    "s\n",
    "data\n",
    "\n",
    "s = 'inny przyklad'\n",
    "data = np.logspace(0, 2, 21)\n",
    "s\n",
    "data"
   ]
  },
  {
   "cell_type": "code",
   "execution_count": null,
   "id": "19bdf6b7",
   "metadata": {},
   "outputs": [],
   "source": [
    "print('Tablice z siatkami współrzędnych')\n",
    "x = np.array([-1, 0, 1])\n",
    "y = np.array([-2, 0, 2])\n",
    "\n",
    "X, Y = np.meshgrid(x, y)\n",
    "X\n",
    "Y\n",
    "Z = (X+Y)**2\n",
    "Z"
   ]
  },
  {
   "cell_type": "code",
   "execution_count": null,
   "id": "819f9e24",
   "metadata": {},
   "outputs": [],
   "source": [
    "print('Tworzenie niezainicjalizowanych tablic')\n",
    "data = np.empty(3, dtype=float)\n",
    "data"
   ]
  },
  {
   "cell_type": "code",
   "execution_count": null,
   "id": "ece61f86",
   "metadata": {},
   "outputs": [],
   "source": [
    "print('Macierze')\n",
    "\n",
    "s = 'MAciez z jedynkami na przekątnej głównej'\n",
    "data = np.identity(4)\n",
    "s\n",
    "data\n",
    "\n",
    "\n",
    "s = 'To samo co wyżej ale stworzone za pomocą f. eye'\n",
    "data = np.eye(4, k=0)\n",
    "s\n",
    "data\n",
    "\n",
    "s = 'k: zmiana offsetu'\n",
    "data = np.eye(4, k=1)\n",
    "s\n",
    "data\n",
    "\n",
    "s = 'k: zmiana offsetu'\n",
    "data = np.eye(4, k=-2)\n",
    "s\n",
    "data\n",
    "\n",
    "s = 'Działanie f. diag'\n",
    "\n",
    "data = np.diag(np.arange(0, 20, 5))\n",
    "s\n",
    "data\n"
   ]
  },
  {
   "cell_type": "code",
   "execution_count": null,
   "id": "21939477",
   "metadata": {},
   "outputs": [],
   "source": [
    "print('Wycinki')\n",
    "\n",
    "data = np.arange(0, 11)\n",
    "data\n",
    "data[0]\n",
    "data[-1]\n",
    "data[1:-1]\n",
    "data[1:]\n",
    "data[1:-1:2]\n",
    "data[-5:]\n",
    "\n",
    "print('Tablice wielowymiarowe')\n",
    "f = lambda m, n: n+10 * m\n",
    "A = np.fromfunction(f, (6, 6), dtype=int)\n",
    "A\n",
    "A[:, 1] # druga kolumna\n",
    "A[1, :] # drugi wiersz\n",
    "A[:3, :3] # lewa górna ćwiartka\n",
    "A[3:, :3] # lewa dolna ćwiartka\n",
    "A[::2, ::2] # co drugi element począwszy od elementu [0, 0]\n",
    "A[1::2, 1::3] # Elementy z co drugiego wiersza i co trzeciej kolumny począwszy od elementu [1, 1]\n"
   ]
  },
  {
   "cell_type": "code",
   "execution_count": null,
   "id": "9f8d55c7",
   "metadata": {},
   "outputs": [],
   "source": [
    "print('Widoki')\n",
    "B = A[1:5, 1:5]\n",
    "A\n",
    "B\n",
    "B[:, :] = 0 # wycinek w orygilalnej tablicy A, przyjmie wartość 0\n",
    "A\n",
    "s='Aby wyeleminować taką funkcjonalnosc, należy zrobić kopię'\n",
    "s\n",
    "C = B[1:3, 1:3].copy()\n",
    "C\n",
    "C[:, :] = 1\n",
    "print('C: ')\n",
    "C\n",
    "print('B: ')\n",
    "B\n"
   ]
  },
  {
   "cell_type": "code",
   "execution_count": null,
   "id": "f8e9a957",
   "metadata": {},
   "outputs": [],
   "source": [
    "print('Indeksowanie logiczne i fancy indexing')\n",
    "\n",
    "data = np.linspace(0, 1, 11)\n",
    "data\n",
    "\n",
    "s='wyodrębnianie elementów znajdujących się na 2, 4 oraz 7 popzycji'\n",
    "s\n",
    "data[np.array([2, 4, 7])] \n",
    "\n",
    "s='Ten sam efekt ale z zastosowaniem listy'\n",
    "s\n",
    "data[[0, 2, 7]]\n",
    "\n",
    "print('Tablica 2D')\n",
    "\n",
    "data = np.linspace(0, 11, 12).reshape(3, 4) # linspace(od, do, ile)\n",
    "data\n",
    "data[:, 2] # 2 kolumna\n",
    "data[:, 1:] # wszystko oprócz kolumny 0\n",
    "data[[1, 2], [1, 3]]\n",
    "\n",
    "print('Filtrowanie zawartosci tablicy')\n",
    "data\n",
    "data > 7.5\n",
    "data[data > 5]\n",
    "\n",
    "print('Kolejne przyklady fancy indexing')\n",
    "data = np.arange(10)\n",
    "print('data: ')\n",
    "data\n",
    "indices = [2, 5, 7]\n",
    "B = data[indices]\n",
    "B\n",
    "B[0] = -1  # To przypisanie nie wpływa na wartości w A\n",
    "data\n",
    "data[indices] = -1 # To przypisanie wpływa na wartości w A\n",
    "data"
   ]
  },
  {
   "cell_type": "code",
   "execution_count": null,
   "id": "297de533",
   "metadata": {},
   "outputs": [],
   "source": [
    "print('Zmiany kształtu i rozmiaru')\n",
    "\n",
    "data = np.array([[1, 2], [3, 4]])\n",
    "data\n",
    "np.reshape(data, (1, 4)) # po reshape dwuwymiarowej tablicy o wymiarach 1, 4\n",
    "data.reshape(4) # po reshape do 1 wymiarowego wektora\n",
    "\n",
    "C = data.reshape(4)\n",
    "C[1] = 123\n",
    "data\n",
    "data[0][1] = 2\n",
    "data\n",
    "C = data.reshape(1, 4).copy()\n",
    "C\n",
    "\n",
    "print('Funkcje ravel i flatten. Te funkcje spłaszczają tablice 2D do 1-wymiarowego wektora,\\\n",
    "      przy czym flatten zwraca nowa kopie tablicy')\n",
    "\n",
    "data = np.arange(1, 5, 1).reshape(2, 2)\n",
    "data\n",
    "x = data.flatten()\n",
    "x\n",
    "data\n",
    "x[0] = 123\n",
    "x\n",
    "data # oryginalne data\n",
    "\n",
    "y = data.ravel()\n",
    "y\n",
    "y[0] = 321\n",
    "y\n",
    "data # zmienione dane\n"
   ]
  },
  {
   "cell_type": "code",
   "execution_count": null,
   "id": "c5e77d88",
   "metadata": {},
   "outputs": [],
   "source": [
    "print('Kontynuacja poprzedniego kodu, z tym, że tutaj analizUję np.newaxis oraz expand_dims')\n",
    "data = np.arange(0, 5)\n",
    "data\n",
    "\n",
    "col = data[:, np.newaxis]\n",
    "col\n",
    "\n",
    "row = data[np.newaxis, :]\n",
    "row\n",
    "\n",
    "# tablica 2D\n",
    "data = np.arange(1, 5, 1).reshape(2, 2)\n",
    "data\n",
    "\n",
    "B = data[:, :, np.newaxis]\n",
    "B\n",
    "data\n",
    "B.shape\n",
    "\n",
    "#expand_dims\n",
    "data\n",
    "data.shape\n",
    "C = np.expand_dims(data, axis=1)\n",
    "C\n",
    "C.shape\n",
    "D = np.expand_dims(data, axis=0)\n",
    "D\n",
    "D.shape\n",
    "\n"
   ]
  },
  {
   "cell_type": "code",
   "execution_count": null,
   "id": "5a70aeec",
   "metadata": {},
   "outputs": [],
   "source": [
    "print('Funkcje vstack oraz hstack')\n",
    "\n",
    "data= np.arange(5)\n",
    "data\n",
    "np.vstack(data) \n",
    "np.vstack((data, data, data))\n",
    "\n",
    "np.hstack((data, data, data)) # to nie jest oczekiwany sposób\n",
    "\n",
    "data = data[:, np.newaxis]\n",
    "data\n",
    "np.hstack((data, data, data))\n",
    "\n",
    "\n"
   ]
  },
  {
   "cell_type": "code",
   "execution_count": null,
   "id": "005d01d6",
   "metadata": {},
   "outputs": [],
   "source": [
    "print('Wyrażenia zwektoryzowane')\n",
    "\n",
    "print('Operacje arytmetyczne')\n",
    "\n",
    "x = np.array([[1, 2], [3, 4]])\n",
    "y = np.array([[5, 6], [7, 8]])\n",
    "x + y\n",
    "x - y\n",
    "x * y\n",
    "x / y\n",
    "\n",
    "x * 2\n",
    "2 ** x\n",
    "y / 2\n",
    "(y / 2).dtype\n",
    "\n",
    "print('Concatenate')\n",
    "\n",
    "a = np.array([[2, 4]])\n",
    "a.shape\n",
    "aa = np.concatenate([a, a], axis=0)\n",
    "aa\n"
   ]
  },
  {
   "cell_type": "code",
   "execution_count": null,
   "id": "56be2c69",
   "metadata": {},
   "outputs": [],
   "source": [
    "print('Funkcje działające na elementach')\n",
    "\n",
    "a = np.linspace(-1, 1, 11)\n",
    "a\n",
    "y = np.sin(np.pi * a) # zaokrąglenie wyniku do 4 miejsc po przecinku\n",
    "np.round(y, decimals=4)\n",
    "\n",
    "np.add(np.sin(a)**2, np.cos(a)**2) # jedynka trygonometryczna\n",
    "\n",
    "cos2x = np.cos(a*2)\n",
    "cos2x = np.round(cos2x, decimals=6)\n",
    "cos2x\n",
    "\n",
    "cos2x_1 = np.cos(a)**2 - np.sin(a)**2\n",
    "cos2x_1 = np.round(cos2x_1, decimals=6)\n",
    "cos2x_1\n",
    "\n",
    "s = f'Are equal? {np.array_equal(cos2x, cos2x_1)}'\n",
    "s\n",
    "\n",
    "def heaviside(x):\n",
    "    return 1 if x > 0 else 0\n",
    "\n",
    "heaviside(-1)\n",
    "heaviside(1.5)\n",
    "#heaviside(np.linspace(0, 1, 11)) # blad: The truth value of an array with more than one element is ambiguous. Use a.any() or a.all()\n",
    "x = np.linspace(1, 10, 11)\n",
    "heaviside = np.vectorize(heaviside)\n",
    "heaviside(x)"
   ]
  },
  {
   "cell_type": "code",
   "execution_count": null,
   "id": "48b91298",
   "metadata": {},
   "outputs": [],
   "source": [
    "print('Funkcje agregujące')\n",
    "data = np.random.normal(size=(5, 5))\n",
    "data\n",
    "\n",
    "np.mean(data)\n",
    "data.mean() # srednia\n",
    "data.var() # wariancja\n",
    "data.sum()  # suma wszystkich elementów\n",
    "data.prod() # iloczyn w e\n",
    "data.cumsum() # Skumulowana suma wszystkich elementów\n",
    "data.cumprod() # Skumulowany iloczyn wszystkich elementów.\n",
    "data.min() \n",
    "data.max()\n",
    "data.all() # zwraca true jezeli wszystkie elementy sa rozne od 0\n",
    "data.any() # Zwraca True, jeżeli którykolwiek z elementów tablicy ma wartość różną od zera.\n",
    "\n",
    "\n"
   ]
  },
  {
   "cell_type": "code",
   "execution_count": null,
   "id": "e1c90cb1",
   "metadata": {},
   "outputs": [],
   "source": [
    "data = np.arange(1, 10).reshape(3, 3)\n",
    "data\n",
    "\n",
    "data.sum()\n",
    "data.sum(axis=0)\n",
    "data.sum(axis=1)\n",
    "\n",
    "print('stosowanie operatorów >, <, >=, <=, == i !=')\n",
    "\n",
    "a = np.array([1, 2, 3, 4])\n",
    "b = np.array([4, 3, 2, 1])\n",
    "a < b\n",
    "np.all(a < b)\n",
    "np.any(a < b)\n",
    "\n"
   ]
  },
  {
   "cell_type": "code",
   "execution_count": null,
   "id": "5cf4af01",
   "metadata": {},
   "outputs": [],
   "source": [
    "print('przyklad definiowania funkcji określonych odcinkowo')\n",
    "\n",
    "def pulse(x, position, height, width):\n",
    "    return height * (x >= position) * (x <= (position + width))\n",
    "\n",
    "x = np.linspace(-5, 5, 11)\n",
    "pulse(x, position=-2, height=1, width=5)\n",
    "x\n",
    "x >= -2\n",
    "x <= 3\n",
    "1 * (x >= -2)\n",
    "1 * (x <= 3)\n",
    "\n",
    "print('Ten sam przyklad ale z zastosowaniem logical_and')\n",
    "def pulse(x, position, height, width):\n",
    "    return height * np.logical_and(x >= position, x <= (position + width))\n",
    "pulse(x, position=-2, height=1, width=5)"
   ]
  },
  {
   "cell_type": "code",
   "execution_count": null,
   "id": "2f7479fc",
   "metadata": {},
   "outputs": [],
   "source": [
    "print('Funkcja where')\n",
    "# Funkcja np.where dokonuje wyboru elementów z dwóch tablic (przekazanych w drugim i trzecim argumencie) na podstawie przekazanej do niej\n",
    "# tablicy wartości logicznych (tablicy warunkowej — pierwszy argument). W przypadku gdy w tablicy warunkowej na danej pozycji znajduje się True, \n",
    "# wybierane są wartości z drugiej tablicy (drugi argument), w przeciwnym razie do tablicy wynikowej trafiają elementy z trzeciej spośród tablic (trzeci argument)\n",
    "\n",
    "x = np.linspace(-4, 4, 9)\n",
    "x\n",
    "\n",
    "x < 0\n",
    "x**2\n",
    "x**3\n",
    "x**4\n",
    "np.where(x < 0, x**2, x**3)\n",
    "\n",
    "print('Funkcja choose')\n",
    "# Wybiera wartości z listy tablic w zależności od zadanej tablicy warunkowej\n",
    "np.choose([0, 0, 0, 1, 1, 1, 2, 2, 2], [x**2, x**3, x**4])\n",
    "\n",
    "\n",
    "print('Funkcja select')\n",
    "# Wybiera wartości z listy tablic w zależności od listy warunków.\n",
    "\n",
    "np.select([x<-1, x<2, x>=2], [x**2 , x**3 , x**4])\n"
   ]
  },
  {
   "cell_type": "code",
   "execution_count": null,
   "id": "73d723ac",
   "metadata": {},
   "outputs": [],
   "source": [
    "print('Operacje na zbiorach')\n",
    "\n",
    "a = np.unique([1, 2, 3, 3]) # Zwraca nową tablicę z unikatowymi elementami, w których każda z wartości pojawia się tylko raz.\n",
    "b = np.unique([2, 3, 4, 4, 5, 6, 5])\n",
    "a\n",
    "b\n",
    "\n",
    "np.isin(a, b) # Sprawdza obecność elementów tablicy w innej tablicy\n",
    "np.intersect1d(a, b) # czesc wspólna\n",
    "np.setdiff1d(a, b) # róznica\n",
    "np.setdiff1d(b, a)\n",
    "np.union1d(a, b) # suma obu\n"
   ]
  },
  {
   "cell_type": "code",
   "execution_count": null,
   "id": "c5780e7b",
   "metadata": {},
   "outputs": [],
   "source": [
    "print('Operacja na tablicach')\n",
    "\n",
    "data = np.arange(9).reshape(3, 3)\n",
    "data\n",
    "data.transpose()\n",
    "\n",
    "data = np.random.randn(1, 2, 3, 4, 5)\n",
    "data.shape\n",
    "data.T.shape\n",
    "\n",
    "data = np.arange(9).reshape(3, 3)\n",
    "data\n",
    "np.rot90(data)\n",
    "\n"
   ]
  },
  {
   "cell_type": "code",
   "execution_count": 14,
   "id": "6059e4e7",
   "metadata": {},
   "outputs": [
    {
     "name": "stdout",
     "output_type": "stream",
     "text": [
      "Operacje macierzowe i wektorowe\n"
     ]
    },
    {
     "data": {
      "text/plain": [
       "array([[1, 2, 3],\n",
       "       [4, 5, 6]])"
      ]
     },
     "execution_count": 14,
     "metadata": {},
     "output_type": "execute_result"
    },
    {
     "data": {
      "text/plain": [
       "array([[1, 2],\n",
       "       [3, 4],\n",
       "       [5, 6]])"
      ]
     },
     "execution_count": 14,
     "metadata": {},
     "output_type": "execute_result"
    },
    {
     "data": {
      "text/plain": [
       "array([[22, 28],\n",
       "       [49, 64]])"
      ]
     },
     "execution_count": 14,
     "metadata": {},
     "output_type": "execute_result"
    },
    {
     "data": {
      "text/plain": [
       "array([[22, 28],\n",
       "       [49, 64]])"
      ]
     },
     "execution_count": 14,
     "metadata": {},
     "output_type": "execute_result"
    },
    {
     "data": {
      "text/plain": [
       "array([[0, 1, 2],\n",
       "       [3, 4, 5],\n",
       "       [6, 7, 8]])"
      ]
     },
     "execution_count": 14,
     "metadata": {},
     "output_type": "execute_result"
    },
    {
     "data": {
      "text/plain": [
       "array([0, 1, 2])"
      ]
     },
     "execution_count": 14,
     "metadata": {},
     "output_type": "execute_result"
    },
    {
     "data": {
      "text/plain": [
       "array([ 5, 14, 23])"
      ]
     },
     "execution_count": 14,
     "metadata": {},
     "output_type": "execute_result"
    },
    {
     "data": {
      "text/plain": [
       "array([[0.76693713, 0.60465294, 0.58710009],\n",
       "       [0.8668025 , 0.07995266, 0.86877649],\n",
       "       [0.11651806, 0.77233814, 0.97928449]])"
      ]
     },
     "execution_count": 14,
     "metadata": {},
     "output_type": "execute_result"
    },
    {
     "data": {
      "text/plain": [
       "array([[0.12450094, 0.70808877, 0.98501462],\n",
       "       [0.89945914, 0.74768684, 0.04244081],\n",
       "       [0.63286524, 0.48470346, 0.82908968]])"
      ]
     },
     "execution_count": 14,
     "metadata": {},
     "output_type": "execute_result"
    },
    {
     "data": {
      "text/plain": [
       "matrix([[0.76693713, 0.60465294, 0.58710009],\n",
       "        [0.8668025 , 0.07995266, 0.86877649],\n",
       "        [0.11651806, 0.77233814, 0.97928449]])"
      ]
     },
     "execution_count": 14,
     "metadata": {},
     "output_type": "execute_result"
    },
    {
     "data": {
      "text/plain": [
       "matrix([[0.12450094, 0.70808877, 0.98501462],\n",
       "        [0.89945914, 0.74768684, 0.04244081],\n",
       "        [0.63286524, 0.48470346, 0.82908968]])"
      ]
     },
     "execution_count": 14,
     "metadata": {},
     "output_type": "execute_result"
    },
    {
     "data": {
      "text/plain": [
       "matrix([[ 0.44442582, -0.18317646,  1.47497089],\n",
       "        [-0.64098181,  0.0116209 ,  2.2314717 ],\n",
       "        [ 0.47208765,  0.08475369,  1.37012755]])"
      ]
     },
     "execution_count": 14,
     "metadata": {},
     "output_type": "execute_result"
    },
    {
     "name": "stdout",
     "output_type": "stream",
     "text": [
      "Iloczyn skalarny dwóch tablic reprezentujacych wektory\n"
     ]
    },
    {
     "data": {
      "text/plain": [
       "array([0, 1, 2])"
      ]
     },
     "execution_count": 14,
     "metadata": {},
     "output_type": "execute_result"
    },
    {
     "data": {
      "text/plain": [
       "np.int64(5)"
      ]
     },
     "execution_count": 14,
     "metadata": {},
     "output_type": "execute_result"
    },
    {
     "data": {
      "text/plain": [
       "np.int64(5)"
      ]
     },
     "execution_count": 14,
     "metadata": {},
     "output_type": "execute_result"
    },
    {
     "data": {
      "text/plain": [
       "array([[0],\n",
       "       [1],\n",
       "       [2]])"
      ]
     },
     "execution_count": 14,
     "metadata": {},
     "output_type": "execute_result"
    },
    {
     "data": {
      "text/plain": [
       "array([[5]])"
      ]
     },
     "execution_count": 14,
     "metadata": {},
     "output_type": "execute_result"
    }
   ],
   "source": [
    "print('Operacje macierzowe i wektorowe')\n",
    "\n",
    "# mnożenie macierzy\n",
    "A = np.arange(1, 7).reshape(2, 3)\n",
    "A\n",
    "B = np.arange(1, 7).reshape(3, 2)\n",
    "B\n",
    "\n",
    "A@B\n",
    "#lub\n",
    "np.dot(A, B)\n",
    "\n",
    "AA = np.arange(9).reshape(3, 3)\n",
    "AA\n",
    "\n",
    "xx = np.arange(3)\n",
    "xx\n",
    "np.dot(AA, xx)\n",
    "\n",
    "AA = np.random.rand(3, 3)\n",
    "BB = np.random.rand(3, 3)\n",
    "AA\n",
    "BB\n",
    "AA = np.asmatrix(AA)\n",
    "AA\n",
    "BB = np.asmatrix(BB)\n",
    "BB\n",
    "Ap = BB*AA*BB.I\n",
    "Ap\n",
    "\n",
    "print('Iloczyn skalarny dwóch tablic reprezentujacych wektory')\n",
    "xx\n",
    "np.inner(xx, xx)\n",
    "# lub\n",
    "np.dot(xx, xx)\n",
    "\n",
    "yy = xx[:, np.newaxis]\n",
    "yy\n",
    "np.dot(yy.T, yy)\n"
   ]
  },
  {
   "cell_type": "code",
   "execution_count": null,
   "id": "71bf6b0f",
   "metadata": {},
   "outputs": [
    {
     "name": "stdout",
     "output_type": "stream",
     "text": [
      "Iloczyn Kroneckera\n"
     ]
    },
    {
     "data": {
      "text/plain": [
       "array([[1, 2, 3],\n",
       "       [2, 4, 6],\n",
       "       [3, 6, 9]])"
      ]
     },
     "execution_count": 17,
     "metadata": {},
     "output_type": "execute_result"
    },
    {
     "data": {
      "text/plain": [
       "array([1, 2, 3, 2, 4, 6, 3, 6, 9])"
      ]
     },
     "execution_count": 17,
     "metadata": {},
     "output_type": "execute_result"
    }
   ],
   "source": [
    "print('Iloczyn Kroneckera')\n",
    "kr = np.array([1, 2, 3])\n",
    "np.outer(kr, kr)\n",
    "\n",
    "np.kron(kr, kr)\n",
    "\n",
    "np.kron(kr[:, np.newaxis], kr[np.newaxis, :])\n"
   ]
  }
 ],
 "metadata": {
  "kernelspec": {
   "display_name": "WIN_VENV",
   "language": "python",
   "name": "python3"
  },
  "language_info": {
   "codemirror_mode": {
    "name": "ipython",
    "version": 3
   },
   "file_extension": ".py",
   "mimetype": "text/x-python",
   "name": "python",
   "nbconvert_exporter": "python",
   "pygments_lexer": "ipython3",
   "version": "3.12.7"
  }
 },
 "nbformat": 4,
 "nbformat_minor": 5
}
